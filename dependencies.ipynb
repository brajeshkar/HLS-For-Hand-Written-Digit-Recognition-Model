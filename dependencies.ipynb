{
 "cells": [
  {
   "cell_type": "markdown",
   "id": "2d7da68d",
   "metadata": {},
   "source": [
    "## Dependencies and versions required\n",
    "\n",
    "1. tensorflow version 2.13.1 pip3 install tensorflow==2.13.1\n",
    "2. keras version 2.13.1 pip3 install keras==2.13.1\n",
    "3. numpy version 1.23.2 pip3 install numpy\n",
    "4. python version 3.8.10\n",
    "5. hls4ml version 0.8.1 pip3 install hls4ml\n",
    "\n",
    "### For vivado installation on ubuntu\n",
    "\n",
    "package libtinfo5 sudo apt-get install libtinfo5"
   ]
  }
 ],
 "metadata": {
  "kernelspec": {
   "display_name": "Python 3 (ipykernel)",
   "language": "python",
   "name": "python3"
  },
  "language_info": {
   "codemirror_mode": {
    "name": "ipython",
    "version": 3
   },
   "file_extension": ".py",
   "mimetype": "text/x-python",
   "name": "python",
   "nbconvert_exporter": "python",
   "pygments_lexer": "ipython3",
   "version": "3.8.10"
  }
 },
 "nbformat": 4,
 "nbformat_minor": 5
}
